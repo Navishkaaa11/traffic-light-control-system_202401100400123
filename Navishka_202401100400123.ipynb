{
  "nbformat": 4,
  "nbformat_minor": 0,
  "metadata": {
    "colab": {
      "provenance": []
    },
    "kernelspec": {
      "name": "python3",
      "display_name": "Python 3"
    },
    "language_info": {
      "name": "python"
    }
  },
  "cells": [
    {
      "cell_type": "code",
      "execution_count": 9,
      "metadata": {
        "colab": {
          "base_uri": "https://localhost:8080/"
        },
        "id": "FchhgZwGOME0",
        "outputId": "92755a6f-9263-433f-b383-0fe6981b2b27"
      },
      "outputs": [
        {
          "output_type": "stream",
          "name": "stdout",
          "text": [
            "Timer set to: 57 seconds\n",
            "After 57 seconds, the light is: Red\n",
            "Stop! The red light is on.\n"
          ]
        }
      ],
      "source": [
        "import random\n",
        "\n",
        "def traffic_light_system():\n",
        "    timer = random.randint(1, 200)  # Random timer between 1 and 200 seconds\n",
        "    print(f\"Timer set to: {timer} seconds\")\n",
        "\n",
        "    cycle_time = 60 + 10 + 60  # Total cycle time (Red + Yellow + Green)\n",
        "    time_in_cycle = timer % cycle_time  # Time within the current cycle\n",
        "\n",
        "    if time_in_cycle < 60:\n",
        "        light = \"Red\"\n",
        "        message = \"Stop! The red light is on.\"\n",
        "    elif time_in_cycle < 70:\n",
        "        light = \"Yellow\"\n",
        "        message = \"Caution! The yellow light is on.\"\n",
        "    else:\n",
        "        light = \"Green\"\n",
        "        message = \"Go! The green light is on.\"\n",
        "\n",
        "    print(f\"After {timer} seconds, the light is: {light}\")\n",
        "    print(message)\n",
        "\n",
        "traffic_light_system()\n"
      ]
    }
  ]
}